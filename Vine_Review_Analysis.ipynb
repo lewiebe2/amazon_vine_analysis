{
  "nbformat": 4,
  "nbformat_minor": 0,
  "metadata": {
    "colab": {
      "name": "Vine_Review_Analysis.ipynb",
      "provenance": [],
      "collapsed_sections": []
    },
    "kernelspec": {
      "name": "python3",
      "display_name": "Python 3"
    },
    "language_info": {
      "name": "python"
    }
  },
  "cells": [
    {
      "cell_type": "code",
      "execution_count": 14,
      "metadata": {
        "colab": {
          "base_uri": "https://localhost:8080/"
        },
        "id": "P2i5Xq5vbA7T",
        "outputId": "eeb8a0af-e458-42a4-9574-2993959614b2"
      },
      "outputs": [
        {
          "output_type": "stream",
          "name": "stdout",
          "text": [
            "\r0% [Working]\r            \rHit:1 http://security.ubuntu.com/ubuntu bionic-security InRelease\n",
            "\r0% [Connecting to archive.ubuntu.com (91.189.88.152)] [Connected to cloud.r-pro\r0% [1 InRelease gpgv 88.7 kB] [Connecting to archive.ubuntu.com (91.189.88.152)\r                                                                               \rHit:2 https://cloud.r-project.org/bin/linux/ubuntu bionic-cran40/ InRelease\n",
            "Ign:3 https://developer.download.nvidia.com/compute/cuda/repos/ubuntu1804/x86_64  InRelease\n",
            "Ign:4 https://developer.download.nvidia.com/compute/machine-learning/repos/ubuntu1804/x86_64  InRelease\n",
            "Hit:5 https://developer.download.nvidia.com/compute/cuda/repos/ubuntu1804/x86_64  Release\n",
            "Get:6 http://ppa.launchpad.net/c2d4u.team/c2d4u4.0+/ubuntu bionic InRelease [15.9 kB]\n",
            "Hit:7 https://developer.download.nvidia.com/compute/machine-learning/repos/ubuntu1804/x86_64  Release\n",
            "Hit:8 http://archive.ubuntu.com/ubuntu bionic InRelease\n",
            "Hit:9 http://archive.ubuntu.com/ubuntu bionic-updates InRelease\n",
            "Hit:10 http://archive.ubuntu.com/ubuntu bionic-backports InRelease\n",
            "Hit:11 http://ppa.launchpad.net/cran/libgit2/ubuntu bionic InRelease\n",
            "Hit:12 http://ppa.launchpad.net/deadsnakes/ppa/ubuntu bionic InRelease\n",
            "Hit:14 http://ppa.launchpad.net/graphics-drivers/ppa/ubuntu bionic InRelease\n",
            "Get:16 http://ppa.launchpad.net/c2d4u.team/c2d4u4.0+/ubuntu bionic/main Sources [1,827 kB]\n",
            "Get:17 http://ppa.launchpad.net/c2d4u.team/c2d4u4.0+/ubuntu bionic/main amd64 Packages [936 kB]\n",
            "Fetched 2,780 kB in 4s (763 kB/s)\n",
            "Reading package lists... Done\n"
          ]
        }
      ],
      "source": [
        "import os\n",
        "# Find the latest version of spark 3.0 from http://www.apache.org/dist/spark/ and enter as the spark version\n",
        "# For example:\n",
        "# spark_version = 'spark-3.0.3'\n",
        "spark_version = 'spark-3.2.1'\n",
        "os.environ['SPARK_VERSION']=spark_version\n",
        "\n",
        "# Install Spark and Java\n",
        "!apt-get update\n",
        "!apt-get install openjdk-11-jdk-headless -qq > /dev/null\n",
        "!wget -q http://www.apache.org/dist/spark/$SPARK_VERSION/$SPARK_VERSION-bin-hadoop2.7.tgz\n",
        "!tar xf $SPARK_VERSION-bin-hadoop2.7.tgz\n",
        "!pip install -q findspark\n",
        "\n",
        "# Set Environment Variables\n",
        "import os\n",
        "os.environ[\"JAVA_HOME\"] = \"/usr/lib/jvm/java-11-openjdk-amd64\"\n",
        "os.environ[\"SPARK_HOME\"] = f\"/content/{spark_version}-bin-hadoop2.7\"\n",
        "\n",
        "# Start a SparkSession\n",
        "import findspark\n",
        "findspark.init()"
      ]
    },
    {
      "cell_type": "code",
      "source": [
        "# Download the Postgres driver that will allow Spark to interact with Postgres.\n",
        "!wget https://jdbc.postgresql.org/download/postgresql-42.2.16.jar"
      ],
      "metadata": {
        "colab": {
          "base_uri": "https://localhost:8080/"
        },
        "id": "zSa3yiGZb5eo",
        "outputId": "b68d2b89-ee97-4e1b-e209-0c3a3b634fdd"
      },
      "execution_count": 15,
      "outputs": [
        {
          "output_type": "stream",
          "name": "stdout",
          "text": [
            "--2022-03-15 02:55:03--  https://jdbc.postgresql.org/download/postgresql-42.2.16.jar\n",
            "Resolving jdbc.postgresql.org (jdbc.postgresql.org)... 72.32.157.228, 2001:4800:3e1:1::228\n",
            "Connecting to jdbc.postgresql.org (jdbc.postgresql.org)|72.32.157.228|:443... connected.\n",
            "HTTP request sent, awaiting response... 200 OK\n",
            "Length: 1002883 (979K) [application/java-archive]\n",
            "Saving to: ‘postgresql-42.2.16.jar.1’\n",
            "\n",
            "postgresql-42.2.16. 100%[===================>] 979.38K  --.-KB/s    in 0.09s   \n",
            "\n",
            "2022-03-15 02:55:03 (10.9 MB/s) - ‘postgresql-42.2.16.jar.1’ saved [1002883/1002883]\n",
            "\n"
          ]
        }
      ]
    },
    {
      "cell_type": "code",
      "source": [
        "from pyspark.sql import SparkSession\n",
        "spark = SparkSession.builder.appName(\"M16-Amazon-Challenge\").config(\"spark.driver.extraClassPath\",\"/content/postgresql-42.2.16.jar\").getOrCreate()"
      ],
      "metadata": {
        "id": "FJiC3u2Db6Vq"
      },
      "execution_count": 16,
      "outputs": []
    },
    {
      "cell_type": "code",
      "source": [
        "from pyspark import SparkFiles\n",
        "url = \"https://s3.amazonaws.com/amazon-reviews-pds/tsv/amazon_reviews_us_Music_v1_00.tsv.gz\"\n",
        "spark.sparkContext.addFile(url)\n",
        "df = spark.read.option(\"encoding\", \"UTF-8\").csv(SparkFiles.get(\"\"), sep=\"\\t\", header=True, inferSchema=True)\n",
        "df.show(5)"
      ],
      "metadata": {
        "colab": {
          "base_uri": "https://localhost:8080/"
        },
        "id": "01UTZDU0cEyd",
        "outputId": "f75621e2-849c-4a4e-8aef-9f3c76d64e5f"
      },
      "execution_count": 17,
      "outputs": [
        {
          "output_type": "stream",
          "name": "stdout",
          "text": [
            "+-----------+-----------+--------------+----------+--------------+--------------------+----------------+-----------+-------------+-----------+----+-----------------+--------------------+--------------------+-----------+\n",
            "|marketplace|customer_id|     review_id|product_id|product_parent|       product_title|product_category|star_rating|helpful_votes|total_votes|vine|verified_purchase|     review_headline|         review_body|review_date|\n",
            "+-----------+-----------+--------------+----------+--------------+--------------------+----------------+-----------+-------------+-----------+----+-----------------+--------------------+--------------------+-----------+\n",
            "|         US|   10140119|R3LI5TRP3YIDQL|B00TXH4OLC|     384427924|Whatever's for Us...|           Music|          5|            0|          0|   N|                Y|          Five Stars|Love this CD alon...| 2015-08-31|\n",
            "|         US|   27664622|R3LGC3EKEG84PX|B00B6QXN6U|     831769051|Same Trailer Diff...|           Music|          5|            0|          0|   N|                Y|A new fave in our...|This is the album...| 2015-08-31|\n",
            "|         US|   45946560| R9PYL3OYH55QY|B001GCZXW6|      14067376| Soaring (Jazz Club)|           Music|          5|            0|          1|   N|                Y|          Five Stars|  Excellent / thanks| 2015-08-31|\n",
            "|         US|   15146326|R3PWBAWUS4NT0Q|B000003EK6|     566295619|     CARIBBEAN PARTY|           Music|          3|            0|          0|   N|                Y|         Three Stars|Nice variety of c...| 2015-08-31|\n",
            "|         US|   16794688|R15LYP3O51UU9E|B00N1F0BKK|     210426072|         Pain Killer|           Music|          5|            0|          0|   N|                Y|          Five Stars|Purchased as a gi...| 2015-08-31|\n",
            "+-----------+-----------+--------------+----------+--------------+--------------------+----------------+-----------+-------------+-----------+----+-----------------+--------------------+--------------------+-----------+\n",
            "only showing top 5 rows\n",
            "\n"
          ]
        }
      ]
    },
    {
      "cell_type": "code",
      "source": [
        "from pyspark.sql.functions import *\n",
        "# Read in the Review dataset as a DataFrame"
      ],
      "metadata": {
        "id": "oWJWSgVyoBrt"
      },
      "execution_count": 18,
      "outputs": []
    },
    {
      "cell_type": "code",
      "source": [
        "# Create the vine_table. DataFrame\n",
        "vine_df = df.select([\"review_id\", \"star_rating\", \"helpful_votes\", \"total_votes\", \"vine\", \"verified_purchase\"])\n",
        "\n",
        "vine_df.show(5)"
      ],
      "metadata": {
        "colab": {
          "base_uri": "https://localhost:8080/"
        },
        "id": "PlLt2soYcxDH",
        "outputId": "91383cca-6e85-4024-a8e7-8160d6f4caf8"
      },
      "execution_count": 19,
      "outputs": [
        {
          "output_type": "stream",
          "name": "stdout",
          "text": [
            "+--------------+-----------+-------------+-----------+----+-----------------+\n",
            "|     review_id|star_rating|helpful_votes|total_votes|vine|verified_purchase|\n",
            "+--------------+-----------+-------------+-----------+----+-----------------+\n",
            "|R3LI5TRP3YIDQL|          5|            0|          0|   N|                Y|\n",
            "|R3LGC3EKEG84PX|          5|            0|          0|   N|                Y|\n",
            "| R9PYL3OYH55QY|          5|            0|          1|   N|                Y|\n",
            "|R3PWBAWUS4NT0Q|          3|            0|          0|   N|                Y|\n",
            "|R15LYP3O51UU9E|          5|            0|          0|   N|                Y|\n",
            "+--------------+-----------+-------------+-----------+----+-----------------+\n",
            "only showing top 5 rows\n",
            "\n"
          ]
        }
      ]
    },
    {
      "cell_type": "code",
      "source": [
        "# Step 1: Filter vine_df to retrieve all the rows where the total_votes count is equal to or greater than 20\n",
        "high_total_votes_df = vine_df.filter(\"total_votes>=20\")\n",
        "high_total_votes_df.show(5)"
      ],
      "metadata": {
        "colab": {
          "base_uri": "https://localhost:8080/"
        },
        "id": "sVgB0h7ac7PB",
        "outputId": "ad207298-fc02-4565-a682-85495ff50a8b"
      },
      "execution_count": 29,
      "outputs": [
        {
          "output_type": "stream",
          "name": "stdout",
          "text": [
            "+--------------+-----------+-------------+-----------+----+-----------------+\n",
            "|     review_id|star_rating|helpful_votes|total_votes|vine|verified_purchase|\n",
            "+--------------+-----------+-------------+-----------+----+-----------------+\n",
            "|R2SHXRL6SL1GC9|          3|           25|         26|   N|                Y|\n",
            "|R2ZC033X86YOY8|          5|           25|         26|   N|                N|\n",
            "|R2736RJGCOSL80|          5|           19|         20|   N|                Y|\n",
            "| RRY5DJ6J9BKAX|          5|           19|         21|   N|                Y|\n",
            "|R2P4PJJ2ROTPBM|          5|           46|         48|   N|                N|\n",
            "+--------------+-----------+-------------+-----------+----+-----------------+\n",
            "only showing top 5 rows\n",
            "\n"
          ]
        }
      ]
    },
    {
      "cell_type": "code",
      "source": [
        "# Step 2: Filter high_total_votes_df for all the rows where the number of helpful_votes divided by total_votes is equal to or greater than 50%\n",
        "helpful_votes_df = high_total_votes_df.filter(\"helpful_votes/total_votes>=0.5\")\n",
        "helpful_votes_df.show(5)"
      ],
      "metadata": {
        "colab": {
          "base_uri": "https://localhost:8080/"
        },
        "id": "BAUDeGhcjs7s",
        "outputId": "668f9389-4c4f-4539-ac61-57010a983078"
      },
      "execution_count": 51,
      "outputs": [
        {
          "output_type": "stream",
          "name": "stdout",
          "text": [
            "+--------------+-----------+-------------+-----------+----+-----------------+\n",
            "|     review_id|star_rating|helpful_votes|total_votes|vine|verified_purchase|\n",
            "+--------------+-----------+-------------+-----------+----+-----------------+\n",
            "|R2SHXRL6SL1GC9|          3|           25|         26|   N|                Y|\n",
            "|R2ZC033X86YOY8|          5|           25|         26|   N|                N|\n",
            "|R2736RJGCOSL80|          5|           19|         20|   N|                Y|\n",
            "| RRY5DJ6J9BKAX|          5|           19|         21|   N|                Y|\n",
            "|R2P4PJJ2ROTPBM|          5|           46|         48|   N|                N|\n",
            "+--------------+-----------+-------------+-----------+----+-----------------+\n",
            "only showing top 5 rows\n",
            "\n"
          ]
        }
      ]
    },
    {
      "cell_type": "code",
      "source": [
        "# Step 3: Filter helpful_votes_df to retrieve all the rows where a review was written as part of the Vine program (paid), vine == 'Y'\n",
        "paid_reviews_df = helpful_votes_df.filter(\"vine == 'Y'\")\n",
        "paid_reviews_df.show()"
      ],
      "metadata": {
        "colab": {
          "base_uri": "https://localhost:8080/"
        },
        "id": "0Vv68ZO3kSRo",
        "outputId": "b4c8fe08-af35-422c-e989-5ff58f0d5154"
      },
      "execution_count": 40,
      "outputs": [
        {
          "output_type": "stream",
          "name": "stdout",
          "text": [
            "+--------------+-----------+-------------+-----------+----+-----------------+\n",
            "|     review_id|star_rating|helpful_votes|total_votes|vine|verified_purchase|\n",
            "+--------------+-----------+-------------+-----------+----+-----------------+\n",
            "| R84VUCDBCI29U|          3|           18|         28|   Y|                N|\n",
            "| R4V3ICFDTIDIF|          4|           20|         21|   Y|                N|\n",
            "|R1JZ0JAPW83WFS|          4|           54|         58|   Y|                N|\n",
            "|R1XH7EA97FAVP7|          3|           35|         44|   Y|                N|\n",
            "|R1482JAU1ZR7QH|          4|           15|         22|   Y|                N|\n",
            "|R1GGYGVTHP84DG|          4|           25|         27|   Y|                N|\n",
            "| RXGU9DSKZJSP0|          3|           21|         22|   Y|                N|\n",
            "+--------------+-----------+-------------+-----------+----+-----------------+\n",
            "\n"
          ]
        }
      ]
    },
    {
      "cell_type": "code",
      "source": [
        "# Step 4: Filter helpful_votes_df to retrieve all the rows where a review was NOT written as part of the Vine program (paid), vine == 'N'\n",
        "unpaid_reviews_df = helpful_votes_df.filter(\"vine == 'N'\")\n",
        "unpaid_reviews_df.show()"
      ],
      "metadata": {
        "colab": {
          "base_uri": "https://localhost:8080/"
        },
        "id": "VbMbdgGHlD9F",
        "outputId": "fabb3c91-3729-4bfb-a866-766ab686fb71"
      },
      "execution_count": 39,
      "outputs": [
        {
          "output_type": "stream",
          "name": "stdout",
          "text": [
            "+--------------+-----------+-------------+-----------+----+-----------------+\n",
            "|     review_id|star_rating|helpful_votes|total_votes|vine|verified_purchase|\n",
            "+--------------+-----------+-------------+-----------+----+-----------------+\n",
            "|R2SHXRL6SL1GC9|          3|           25|         26|   N|                Y|\n",
            "|R2ZC033X86YOY8|          5|           25|         26|   N|                N|\n",
            "|R2736RJGCOSL80|          5|           19|         20|   N|                Y|\n",
            "| RRY5DJ6J9BKAX|          5|           19|         21|   N|                Y|\n",
            "|R2P4PJJ2ROTPBM|          5|           46|         48|   N|                N|\n",
            "| RO8RAEGB66BKR|          4|           46|         46|   N|                N|\n",
            "| RRFZ7QZTRJC59|          5|          292|        300|   N|                N|\n",
            "| RFN4PNRUD1UW2|          4|           21|         22|   N|                N|\n",
            "| RO7EBJEP7IHIX|          5|           26|         26|   N|                N|\n",
            "|R1CVS4MK9RTNNP|          2|           11|         22|   N|                N|\n",
            "| REIWYIGFMEKEV|          5|           26|         30|   N|                Y|\n",
            "|R2FV27WWRWROZU|          4|           26|         27|   N|                N|\n",
            "|R30I82JFOSSJMA|          3|           14|         20|   N|                Y|\n",
            "|R16QHOYRY9QLQU|          5|           36|         39|   N|                N|\n",
            "|R1CQON45M11K9Q|          5|          125|        131|   N|                Y|\n",
            "|R1WYWVRXAGND36|          5|           24|         25|   N|                N|\n",
            "| R6RZ581R948P7|          1|           29|         42|   N|                Y|\n",
            "| RBRZ21U9GFORT|          5|           28|         33|   N|                N|\n",
            "|R2Y6OCM9IEH9QO|          1|           12|         21|   N|                N|\n",
            "|R26I5D95TEK226|          5|           52|         56|   N|                N|\n",
            "+--------------+-----------+-------------+-----------+----+-----------------+\n",
            "only showing top 20 rows\n",
            "\n"
          ]
        }
      ]
    },
    {
      "cell_type": "code",
      "source": [
        "# STEP 5 BELOW"
      ],
      "metadata": {
        "id": "Gq3qByAlpIYD"
      },
      "execution_count": 45,
      "outputs": []
    },
    {
      "cell_type": "code",
      "source": [
        "# Total number of paid reviews\n",
        "total_paid = paid_reviews_df.select(\"review_id\").count()\n",
        "total_paid"
      ],
      "metadata": {
        "colab": {
          "base_uri": "https://localhost:8080/"
        },
        "id": "yy3nnOmtl4zr",
        "outputId": "d3fef1e1-5955-46e3-b6a9-a7fbf7b48850"
      },
      "execution_count": 54,
      "outputs": [
        {
          "output_type": "execute_result",
          "data": {
            "text/plain": [
              "7"
            ]
          },
          "metadata": {},
          "execution_count": 54
        }
      ]
    },
    {
      "cell_type": "code",
      "source": [
        "# Total number of unpaid reviews\n",
        "total_unpaid = unpaid_reviews_df.select(\"review_id\").count()\n",
        "total_unpaid\n"
      ],
      "metadata": {
        "colab": {
          "base_uri": "https://localhost:8080/"
        },
        "id": "JMnPKk1Tpzns",
        "outputId": "14450be8-fc83-4c1a-f2a2-d840c56210f0"
      },
      "execution_count": 55,
      "outputs": [
        {
          "output_type": "execute_result",
          "data": {
            "text/plain": [
              "105979"
            ]
          },
          "metadata": {},
          "execution_count": 55
        }
      ]
    },
    {
      "cell_type": "code",
      "source": [
        "# Number of 5-star paid reviews\n",
        "five_star_paid = paid_reviews_df.filter(\"star_rating==5\").count()\n",
        "five_star_paid"
      ],
      "metadata": {
        "colab": {
          "base_uri": "https://localhost:8080/"
        },
        "id": "0z-35NE9pAh3",
        "outputId": "71b874bd-b429-4c1f-f33f-6f3fb40fe097"
      },
      "execution_count": 52,
      "outputs": [
        {
          "output_type": "execute_result",
          "data": {
            "text/plain": [
              "0"
            ]
          },
          "metadata": {},
          "execution_count": 52
        }
      ]
    },
    {
      "cell_type": "code",
      "source": [
        "# Number of 5-star unpaid reviews\n",
        "five_star_unpaid = unpaid_reviews_df.filter(\"star_rating==5\").count()\n",
        "five_star_unpaid"
      ],
      "metadata": {
        "colab": {
          "base_uri": "https://localhost:8080/"
        },
        "id": "ucdJ4w8up4rv",
        "outputId": "4a99fed3-fe35-44b4-9078-4cca155f8fc4"
      },
      "execution_count": 53,
      "outputs": [
        {
          "output_type": "execute_result",
          "data": {
            "text/plain": [
              "67580"
            ]
          },
          "metadata": {},
          "execution_count": 53
        }
      ]
    },
    {
      "cell_type": "code",
      "source": [
        "# Percentage of 5-star paid reviews\n",
        "percent_paid_five_star = five_star_paid/total_paid\n",
        "percent_paid_five_star"
      ],
      "metadata": {
        "colab": {
          "base_uri": "https://localhost:8080/"
        },
        "id": "83KfSb4HpVlN",
        "outputId": "2b56a61e-ec74-4a7f-d488-2cdfabf1c507"
      },
      "execution_count": 57,
      "outputs": [
        {
          "output_type": "execute_result",
          "data": {
            "text/plain": [
              "0.0"
            ]
          },
          "metadata": {},
          "execution_count": 57
        }
      ]
    },
    {
      "cell_type": "code",
      "source": [
        "# Percentage of 5-star unpaid reviews\n",
        "percent_unpaid_five_star = five_star_unpaid/total_unpaid\n",
        "percent_unpaid_five_star"
      ],
      "metadata": {
        "colab": {
          "base_uri": "https://localhost:8080/"
        },
        "id": "MYzTlp2hqQCh",
        "outputId": "eea299ca-7646-4ec1-8160-dfb59a0dd719"
      },
      "execution_count": 58,
      "outputs": [
        {
          "output_type": "execute_result",
          "data": {
            "text/plain": [
              "0.6376735013540419"
            ]
          },
          "metadata": {},
          "execution_count": 58
        }
      ]
    }
  ]
}